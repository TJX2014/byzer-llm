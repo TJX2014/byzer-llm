{
 "cells": [
  {
   "cell_type": "markdown",
   "metadata": {},
   "source": [
    "1. 你好,William老师,很高兴见到你,我的名字叫小明。\n",
    "2. 好的，感谢你的建议。William老师，您能帮我把下面这句中文翻译成英文么：\n",
    "\n",
    "Byzer-LLM 可以帮助企业快速的将业务数据注入私有或者商业大模型，并且能够将大模型\n",
    "部署成 SQL 函数应用 ETL, 流式计算以及 API 等多场景中。\n",
    " "
   ]
  },
  {
   "cell_type": "code",
   "execution_count": 27,
   "metadata": {},
   "outputs": [
    {
     "data": {
      "text/plain": [
       "array([1, 3, 2, 4])"
      ]
     },
     "execution_count": 27,
     "metadata": {},
     "output_type": "execute_result"
    }
   ],
   "source": [
    "a = [(1,2),(3,4),(2,3),(4,5)]\n",
    "\n",
    "def execute_parallel(fn,a,num_workers=3):\n",
    "    import concurrent.futures\n",
    "\n",
    "    def process_chunk(chunk):\n",
    "        return [fn(*m) for m in chunk]\n",
    "\n",
    "    def split_list(lst, n):\n",
    "        k, m = divmod(len(lst), n)\n",
    "        return [lst[i * k + min(i, m):(i + 1) * k + min(i + 1, m)] for i in range(n)]    \n",
    "\n",
    "    # Split the list into three chunks\n",
    "    chunks = split_list(a,num_workers)\n",
    "\n",
    "    with concurrent.futures.ThreadPoolExecutor(max_workers=num_workers) as executor:    \n",
    "        results = list(executor.map(lambda x: process_chunk(x), chunks))\n",
    "    return results    \n",
    "\n",
    "import numpy as np\n",
    "rs = execute_parallel(lambda x,y: x,a,3)\n",
    "np.concatenate([np.array(r) for r in rs]   )"
   ]
  },
  {
   "cell_type": "code",
   "execution_count": 8,
   "metadata": {},
   "outputs": [
    {
     "name": "stdout",
     "output_type": "stream",
     "text": [
      "1 2\n",
      "3 4\n",
      "2 3\n",
      "4 5\n"
     ]
    },
    {
     "data": {
      "text/plain": [
       "[1, 3, 2, 4]"
      ]
     },
     "execution_count": 8,
     "metadata": {},
     "output_type": "execute_result"
    }
   ],
   "source": [
    "a =[(1,2),(3,4),(2,3),(4,5)]\n",
    "\n",
    "def generate(c,d):\n",
    "   print(c,d)\n",
    "   return c\n",
    "\n",
    "result = [generate(*m) for m in a]\n",
    "result"
   ]
  }
 ],
 "metadata": {
  "kernelspec": {
   "display_name": "Python 3.10.10 ('byzerllm-desktop')",
   "language": "python",
   "name": "python3"
  },
  "language_info": {
   "codemirror_mode": {
    "name": "ipython",
    "version": 3
   },
   "file_extension": ".py",
   "mimetype": "text/x-python",
   "name": "python",
   "nbconvert_exporter": "python",
   "pygments_lexer": "ipython3",
   "version": "3.10.10"
  },
  "orig_nbformat": 4,
  "vscode": {
   "interpreter": {
    "hash": "a0841e6fa5fd7f5fbe1cf4ca91f4c3ac3ffbf43734ec031b7e59d4ccc4a924a1"
   }
  }
 },
 "nbformat": 4,
 "nbformat_minor": 2
}
