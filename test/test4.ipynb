{
 "cells": [
  {
   "cell_type": "markdown",
   "metadata": {},
   "source": [
    "1. 你好,你能介绍一下自己吗?\n",
    "2. 很高兴认识你。你可以用英文再介绍一遍么？"
   ]
  },
  {
   "cell_type": "code",
   "execution_count": 27,
   "metadata": {},
   "outputs": [
    {
     "data": {
      "text/plain": [
       "array([1, 3, 2, 4])"
      ]
     },
     "execution_count": 27,
     "metadata": {},
     "output_type": "execute_result"
    }
   ],
   "source": [
    "a = [(1,2),(3,4),(2,3),(4,5)]\n",
    "\n",
    "def execute_parallel(fn,a,num_workers=3):\n",
    "    import concurrent.futures\n",
    "\n",
    "    def process_chunk(chunk):\n",
    "        return [fn(*m) for m in chunk]\n",
    "\n",
    "    def split_list(lst, n):\n",
    "        k, m = divmod(len(lst), n)\n",
    "        return [lst[i * k + min(i, m):(i + 1) * k + min(i + 1, m)] for i in range(n)]    \n",
    "\n",
    "    # Split the list into three chunks\n",
    "    chunks = split_list(a,num_workers)\n",
    "\n",
    "    with concurrent.futures.ThreadPoolExecutor(max_workers=num_workers) as executor:    \n",
    "        results = list(executor.map(lambda x: process_chunk(x), chunks))\n",
    "    return results    \n",
    "\n",
    "import numpy as np\n",
    "rs = execute_parallel(lambda x,y: x,a,3)\n",
    "np.concatenate([np.array(r) for r in rs]   )"
   ]
  },
  {
   "cell_type": "code",
   "execution_count": 8,
   "metadata": {},
   "outputs": [
    {
     "name": "stdout",
     "output_type": "stream",
     "text": [
      "1 2\n",
      "3 4\n",
      "2 3\n",
      "4 5\n"
     ]
    },
    {
     "data": {
      "text/plain": [
       "[1, 3, 2, 4]"
      ]
     },
     "execution_count": 8,
     "metadata": {},
     "output_type": "execute_result"
    }
   ],
   "source": [
    "a =[(1,2),(3,4),(2,3),(4,5)]\n",
    "\n",
    "def generate(c,d):\n",
    "   print(c,d)\n",
    "   return c\n",
    "\n",
    "result = [generate(*m) for m in a]\n",
    "result"
   ]
  }
 ],
 "metadata": {
  "kernelspec": {
   "display_name": "Python 3.10.10 ('byzerllm-desktop')",
   "language": "python",
   "name": "python3"
  },
  "language_info": {
   "codemirror_mode": {
    "name": "ipython",
    "version": 3
   },
   "file_extension": ".py",
   "mimetype": "text/x-python",
   "name": "python",
   "nbconvert_exporter": "python",
   "pygments_lexer": "ipython3",
   "version": "3.10.10"
  },
  "orig_nbformat": 4,
  "vscode": {
   "interpreter": {
    "hash": "a0841e6fa5fd7f5fbe1cf4ca91f4c3ac3ffbf43734ec031b7e59d4ccc4a924a1"
   }
  }
 },
 "nbformat": 4,
 "nbformat_minor": 2
}
